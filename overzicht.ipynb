{
 "cells": [
  {
   "cell_type": "markdown",
   "id": "c04878a3-2685-492c-b05c-79a9dd2c6e94",
   "metadata": {},
   "source": [
    "# Projecten\n",
    "\n",
    "Tijdens projectweken kan er aan projecten gewerkt worden. In deze cursus vind je verschillende projecten terug die interessant kunnen zijn om met leerlingen uit te voeren. Deze zullen geleidelijk aan aangevuld worden."
   ]
  }
 ],
 "metadata": {
  "kernelspec": {
   "display_name": "Python 3 (ipykernel)",
   "language": "python",
   "name": "python3"
  },
  "language_info": {
   "codemirror_mode": {
    "name": "ipython",
    "version": 3
   },
   "file_extension": ".py",
   "mimetype": "text/x-python",
   "name": "python",
   "nbconvert_exporter": "python",
   "pygments_lexer": "ipython3",
   "version": "3.12.5"
  }
 },
 "nbformat": 4,
 "nbformat_minor": 5
}
