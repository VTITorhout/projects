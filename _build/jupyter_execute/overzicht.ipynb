{
 "cells": [
  {
   "cell_type": "markdown",
   "id": "c04878a3-2685-492c-b05c-79a9dd2c6e94",
   "metadata": {},
   "source": [
    "# Projecten\n",
    "\n",
    "Tijdens projectweken kan er aan projecten gewerkt worden. In deze cursus vind je verschillende projecten terug die interessant kunnen zijn om met leerlingen uit te voeren."
   ]
  }
 ],
 "metadata": {
  "kernelspec": {
   "display_name": "",
   "name": ""
  },
  "language_info": {
   "name": ""
  }
 },
 "nbformat": 4,
 "nbformat_minor": 5
}